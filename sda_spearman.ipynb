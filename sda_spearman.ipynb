{
 "cells": [
  {
   "cell_type": "code",
   "execution_count": 2,
   "metadata": {},
   "outputs": [],
   "source": [
    "import pandas as pd\n",
    "import numpy as np\n",
    "from scipy import stats\n",
    "\n",
    "import seaborn as sns\n",
    "import matplotlib.pyplot as plt\n",
    "import plotly.express as px\n",
    "import plotly.graph_objects as go"
   ]
  },
  {
   "cell_type": "code",
   "execution_count": 3,
   "metadata": {},
   "outputs": [],
   "source": [
    "data = pd.read_csv(\"Korea.csv\")\n"
   ]
  },
  {
   "cell_type": "code",
   "execution_count": 4,
   "metadata": {},
   "outputs": [
    {
     "data": {
      "text/html": [
       "<div>\n",
       "<style scoped>\n",
       "    .dataframe tbody tr th:only-of-type {\n",
       "        vertical-align: middle;\n",
       "    }\n",
       "\n",
       "    .dataframe tbody tr th {\n",
       "        vertical-align: top;\n",
       "    }\n",
       "\n",
       "    .dataframe thead th {\n",
       "        text-align: right;\n",
       "    }\n",
       "</style>\n",
       "<table border=\"1\" class=\"dataframe\">\n",
       "  <thead>\n",
       "    <tr style=\"text-align: right;\">\n",
       "      <th></th>\n",
       "      <th>ID</th>\n",
       "      <th>여행일수</th>\n",
       "      <th>제주</th>\n",
       "      <th>경남</th>\n",
       "      <th>경북</th>\n",
       "      <th>전남</th>\n",
       "      <th>전북</th>\n",
       "      <th>충남</th>\n",
       "      <th>충북</th>\n",
       "      <th>강원</th>\n",
       "      <th>...</th>\n",
       "      <th>재방문 의도</th>\n",
       "      <th>타인 추천 의도</th>\n",
       "      <th>성별</th>\n",
       "      <th>연령</th>\n",
       "      <th>가구원수</th>\n",
       "      <th>가구 월소득</th>\n",
       "      <th>봄</th>\n",
       "      <th>여름</th>\n",
       "      <th>가을</th>\n",
       "      <th>겨울</th>\n",
       "    </tr>\n",
       "  </thead>\n",
       "  <tbody>\n",
       "    <tr>\n",
       "      <th>0</th>\n",
       "      <td>22020520011_1229732</td>\n",
       "      <td>1</td>\n",
       "      <td>0</td>\n",
       "      <td>0</td>\n",
       "      <td>3</td>\n",
       "      <td>0</td>\n",
       "      <td>1</td>\n",
       "      <td>0</td>\n",
       "      <td>0</td>\n",
       "      <td>0</td>\n",
       "      <td>...</td>\n",
       "      <td>4.0</td>\n",
       "      <td>3.0</td>\n",
       "      <td>0</td>\n",
       "      <td>4</td>\n",
       "      <td>3</td>\n",
       "      <td>8</td>\n",
       "      <td>0</td>\n",
       "      <td>1</td>\n",
       "      <td>0</td>\n",
       "      <td>0</td>\n",
       "    </tr>\n",
       "    <tr>\n",
       "      <th>1</th>\n",
       "      <td>11090711981_1129310</td>\n",
       "      <td>1</td>\n",
       "      <td>0</td>\n",
       "      <td>0</td>\n",
       "      <td>0</td>\n",
       "      <td>0</td>\n",
       "      <td>0</td>\n",
       "      <td>0</td>\n",
       "      <td>0</td>\n",
       "      <td>1</td>\n",
       "      <td>...</td>\n",
       "      <td>4.0</td>\n",
       "      <td>4.0</td>\n",
       "      <td>0</td>\n",
       "      <td>6</td>\n",
       "      <td>4</td>\n",
       "      <td>6</td>\n",
       "      <td>1</td>\n",
       "      <td>0</td>\n",
       "      <td>0</td>\n",
       "      <td>0</td>\n",
       "    </tr>\n",
       "    <tr>\n",
       "      <th>2</th>\n",
       "      <td>2503073057A_1070957</td>\n",
       "      <td>0</td>\n",
       "      <td>0</td>\n",
       "      <td>0</td>\n",
       "      <td>0</td>\n",
       "      <td>0</td>\n",
       "      <td>1</td>\n",
       "      <td>2</td>\n",
       "      <td>0</td>\n",
       "      <td>0</td>\n",
       "      <td>...</td>\n",
       "      <td>4.0</td>\n",
       "      <td>4.0</td>\n",
       "      <td>0</td>\n",
       "      <td>2</td>\n",
       "      <td>3</td>\n",
       "      <td>6</td>\n",
       "      <td>1</td>\n",
       "      <td>0</td>\n",
       "      <td>0</td>\n",
       "      <td>0</td>\n",
       "    </tr>\n",
       "    <tr>\n",
       "      <th>3</th>\n",
       "      <td>26030550451_1334180</td>\n",
       "      <td>1</td>\n",
       "      <td>1</td>\n",
       "      <td>1</td>\n",
       "      <td>0</td>\n",
       "      <td>0</td>\n",
       "      <td>0</td>\n",
       "      <td>0</td>\n",
       "      <td>0</td>\n",
       "      <td>0</td>\n",
       "      <td>...</td>\n",
       "      <td>4.0</td>\n",
       "      <td>4.0</td>\n",
       "      <td>1</td>\n",
       "      <td>5</td>\n",
       "      <td>4</td>\n",
       "      <td>5</td>\n",
       "      <td>0</td>\n",
       "      <td>0</td>\n",
       "      <td>1</td>\n",
       "      <td>0</td>\n",
       "    </tr>\n",
       "    <tr>\n",
       "      <th>4</th>\n",
       "      <td>11080630451_1223531</td>\n",
       "      <td>2</td>\n",
       "      <td>0</td>\n",
       "      <td>0</td>\n",
       "      <td>0</td>\n",
       "      <td>1</td>\n",
       "      <td>0</td>\n",
       "      <td>0</td>\n",
       "      <td>0</td>\n",
       "      <td>1</td>\n",
       "      <td>...</td>\n",
       "      <td>4.0</td>\n",
       "      <td>3.0</td>\n",
       "      <td>1</td>\n",
       "      <td>4</td>\n",
       "      <td>3</td>\n",
       "      <td>6</td>\n",
       "      <td>0</td>\n",
       "      <td>1</td>\n",
       "      <td>0</td>\n",
       "      <td>0</td>\n",
       "    </tr>\n",
       "  </tbody>\n",
       "</table>\n",
       "<p>5 rows × 43 columns</p>\n",
       "</div>"
      ],
      "text/plain": [
       "                    ID  여행일수  제주  경남  경북  전남  전북  충남  충북  강원  ...  재방문 의도  \\\n",
       "0  22020520011_1229732     1   0   0   3   0   1   0   0   0  ...     4.0   \n",
       "1  11090711981_1129310     1   0   0   0   0   0   0   0   1  ...     4.0   \n",
       "2  2503073057A_1070957     0   0   0   0   0   1   2   0   0  ...     4.0   \n",
       "3  26030550451_1334180     1   1   1   0   0   0   0   0   0  ...     4.0   \n",
       "4  11080630451_1223531     2   0   0   0   1   0   0   0   1  ...     4.0   \n",
       "\n",
       "   타인 추천 의도  성별  연령  가구원수  가구 월소득  봄  여름  가을  겨울  \n",
       "0       3.0   0   4     3       8  0   1   0   0  \n",
       "1       4.0   0   6     4       6  1   0   0   0  \n",
       "2       4.0   0   2     3       6  1   0   0   0  \n",
       "3       4.0   1   5     4       5  0   0   1   0  \n",
       "4       3.0   1   4     3       6  0   1   0   0  \n",
       "\n",
       "[5 rows x 43 columns]"
      ]
     },
     "execution_count": 4,
     "metadata": {},
     "output_type": "execute_result"
    }
   ],
   "source": [
    "data.head()"
   ]
  },
  {
   "cell_type": "code",
   "execution_count": 5,
   "metadata": {},
   "outputs": [],
   "source": [
    "JEJU = pd.DataFrame() \n",
    "KYUNG_S = pd.DataFrame()\n",
    "KYUNG_N = pd.DataFrame()\n",
    "JEON_S = pd.DataFrame()\n",
    "JEON_N = pd.DataFrame()\n",
    "CHOONG_S = pd.DataFrame()\n",
    "CHOONG_N = pd.DataFrame()\n",
    "GANGWON = pd.DataFrame()\n",
    "KYUNGGI = pd.DataFrame()\n",
    "SEJONG = pd.DataFrame()\n",
    "ULSAN = pd.DataFrame()\n",
    "DAEJEON = pd.DataFrame()\n",
    "GWANGJU = pd.DataFrame()\n",
    "INCHEON = pd.DataFrame()\n",
    "DAEGU = pd.DataFrame()\n",
    "BUSAN = pd.DataFrame()\n",
    "SEOUL = pd.DataFrame()"
   ]
  },
  {
   "cell_type": "code",
   "execution_count": 6,
   "metadata": {},
   "outputs": [],
   "source": [
    "JEJU = data.loc[data['제주']== 1]\n",
    "KYUNG_S = data.loc[data['경남']== 1]\n",
    "KYUNG_N = data.loc[data['경북']== 1]\n",
    "JEON_S = data.loc[data['전남']== 1]\n",
    "JEON_N = data.loc[data['전북']== 1]\n",
    "CHOONG_S = data.loc[data['충남']== 1]\n",
    "CHOONG_N = data.loc[data['충북']== 1]\n",
    "GANGWON = data.loc[data['강원']== 1]\n",
    "KYUNGGI = data.loc[data['경기']== 1]\n",
    "SEJONG = data.loc[data['세종']== 1]\n",
    "ULSAN = data.loc[data['울산']== 1]\n",
    "DAEJEON = data.loc[data['대전']== 1]\n",
    "GWANGJU = data.loc[data['광주']== 1]\n",
    "INCHEON = data.loc[data['인천']== 1]\n",
    "DAEGU = data.loc[data['대구']== 1]\n",
    "BUSAN = data.loc[data['부산']== 1]\n",
    "SEOUL = data.loc[data['서울']== 1]"
   ]
  },
  {
   "cell_type": "code",
   "execution_count": 7,
   "metadata": {},
   "outputs": [
    {
     "data": {
      "text/plain": [
       "Index(['ID', '여행일수', '제주', '경남', '경북', '전남', '전북', '충남', '충북', '강원', '경기',\n",
       "       '세종', '울산', '대전', '광주', '인천', '대구', '부산', '서울', '여행 총 경비', '숙박비', '식사비',\n",
       "       '교통비', '활동비', '쇼핑비', '수상스키 비용', '캠핑비', '등산비', '낚시비', '의상비', '배낭비',\n",
       "       '여행지 선택이유', '만족도', '재방문 의도', '타인 추천 의도', '성별', '연령', '가구원수', '가구 월소득',\n",
       "       '봄', '여름', '가을', '겨울'],\n",
       "      dtype='object')"
      ]
     },
     "execution_count": 7,
     "metadata": {},
     "output_type": "execute_result"
    }
   ],
   "source": [
    "SEOUL.columns"
   ]
  },
  {
   "cell_type": "code",
   "execution_count": 8,
   "metadata": {},
   "outputs": [],
   "source": [
    "seoul = SEOUL['만족도']+SEOUL['재방문 의도']+SEOUL['타인 추천 의도']\n",
    "busan = BUSAN['만족도']+BUSAN['재방문 의도']+BUSAN['타인 추천 의도']\n",
    "daegu = DAEGU['만족도']+DAEGU['재방문 의도']+DAEGU['타인 추천 의도']\n",
    "incheon = INCHEON['만족도']+INCHEON['재방문 의도']+INCHEON['타인 추천 의도']\n",
    "gwangju = GWANGJU['만족도']+GWANGJU['재방문 의도']+GWANGJU['타인 추천 의도']\n",
    "daejeon = DAEJEON['만족도']+DAEJEON['재방문 의도']+DAEJEON['타인 추천 의도']\n",
    "ulsan = ULSAN['만족도']+ULSAN['재방문 의도']+ULSAN['타인 추천 의도']\n",
    "sejong = SEJONG['만족도']+SEJONG['재방문 의도']+SEJONG['타인 추천 의도']\n",
    "kyunggi = KYUNGGI['만족도']+KYUNGGI['재방문 의도']+KYUNGGI['타인 추천 의도']\n",
    "gangwon = GANGWON['만족도']+GANGWON['재방문 의도']+GANGWON['타인 추천 의도']\n",
    "choong_n = CHOONG_N['만족도']+CHOONG_N['재방문 의도']+CHOONG_N['타인 추천 의도']\n",
    "choong_s = CHOONG_S['만족도']+CHOONG_S['재방문 의도']+CHOONG_S['타인 추천 의도']\n",
    "jeon_n = JEON_N['만족도']+JEON_N['재방문 의도']+JEON_N['타인 추천 의도']\n",
    "jeon_s = JEON_S['만족도']+JEON_S['재방문 의도']+JEON_S['타인 추천 의도']\n",
    "kyung_n = KYUNG_N['만족도']+KYUNG_N['재방문 의도']+KYUNG_N['타인 추천 의도']\n",
    "kyung_s = KYUNG_S['만족도']+KYUNG_S['재방문 의도']+KYUNG_S['타인 추천 의도']\n",
    "jeju = JEJU['만족도']+JEJU['재방문 의도']+JEJU['타인 추천 의도']"
   ]
  },
  {
   "cell_type": "code",
   "execution_count": 9,
   "metadata": {},
   "outputs": [
    {
     "data": {
      "text/html": [
       "<div>\n",
       "<style scoped>\n",
       "    .dataframe tbody tr th:only-of-type {\n",
       "        vertical-align: middle;\n",
       "    }\n",
       "\n",
       "    .dataframe tbody tr th {\n",
       "        vertical-align: top;\n",
       "    }\n",
       "\n",
       "    .dataframe thead th {\n",
       "        text-align: right;\n",
       "    }\n",
       "</style>\n",
       "<table border=\"1\" class=\"dataframe\">\n",
       "  <thead>\n",
       "    <tr style=\"text-align: right;\">\n",
       "      <th></th>\n",
       "      <th>ID</th>\n",
       "      <th>여행일수</th>\n",
       "      <th>제주</th>\n",
       "      <th>경남</th>\n",
       "      <th>경북</th>\n",
       "      <th>전남</th>\n",
       "      <th>전북</th>\n",
       "      <th>충남</th>\n",
       "      <th>충북</th>\n",
       "      <th>강원</th>\n",
       "      <th>...</th>\n",
       "      <th>재방문 의도</th>\n",
       "      <th>타인 추천 의도</th>\n",
       "      <th>성별</th>\n",
       "      <th>연령</th>\n",
       "      <th>가구원수</th>\n",
       "      <th>가구 월소득</th>\n",
       "      <th>봄</th>\n",
       "      <th>여름</th>\n",
       "      <th>가을</th>\n",
       "      <th>겨울</th>\n",
       "    </tr>\n",
       "  </thead>\n",
       "  <tbody>\n",
       "    <tr>\n",
       "      <th>1</th>\n",
       "      <td>11090711981_1129310</td>\n",
       "      <td>1</td>\n",
       "      <td>0</td>\n",
       "      <td>0</td>\n",
       "      <td>0</td>\n",
       "      <td>0</td>\n",
       "      <td>0</td>\n",
       "      <td>0</td>\n",
       "      <td>0</td>\n",
       "      <td>1</td>\n",
       "      <td>...</td>\n",
       "      <td>4.0</td>\n",
       "      <td>4.0</td>\n",
       "      <td>0</td>\n",
       "      <td>6</td>\n",
       "      <td>4</td>\n",
       "      <td>6</td>\n",
       "      <td>1</td>\n",
       "      <td>0</td>\n",
       "      <td>0</td>\n",
       "      <td>0</td>\n",
       "    </tr>\n",
       "    <tr>\n",
       "      <th>4</th>\n",
       "      <td>11080630451_1223531</td>\n",
       "      <td>2</td>\n",
       "      <td>0</td>\n",
       "      <td>0</td>\n",
       "      <td>0</td>\n",
       "      <td>1</td>\n",
       "      <td>0</td>\n",
       "      <td>0</td>\n",
       "      <td>0</td>\n",
       "      <td>1</td>\n",
       "      <td>...</td>\n",
       "      <td>4.0</td>\n",
       "      <td>3.0</td>\n",
       "      <td>1</td>\n",
       "      <td>4</td>\n",
       "      <td>3</td>\n",
       "      <td>6</td>\n",
       "      <td>0</td>\n",
       "      <td>1</td>\n",
       "      <td>0</td>\n",
       "      <td>0</td>\n",
       "    </tr>\n",
       "    <tr>\n",
       "      <th>16</th>\n",
       "      <td>1109073081A_1129374</td>\n",
       "      <td>0</td>\n",
       "      <td>0</td>\n",
       "      <td>0</td>\n",
       "      <td>0</td>\n",
       "      <td>0</td>\n",
       "      <td>0</td>\n",
       "      <td>0</td>\n",
       "      <td>0</td>\n",
       "      <td>1</td>\n",
       "      <td>...</td>\n",
       "      <td>4.0</td>\n",
       "      <td>4.0</td>\n",
       "      <td>0</td>\n",
       "      <td>5</td>\n",
       "      <td>3</td>\n",
       "      <td>6</td>\n",
       "      <td>1</td>\n",
       "      <td>0</td>\n",
       "      <td>0</td>\n",
       "      <td>0</td>\n",
       "    </tr>\n",
       "    <tr>\n",
       "      <th>18</th>\n",
       "      <td>1109073081A_1129439</td>\n",
       "      <td>0</td>\n",
       "      <td>0</td>\n",
       "      <td>0</td>\n",
       "      <td>0</td>\n",
       "      <td>0</td>\n",
       "      <td>0</td>\n",
       "      <td>0</td>\n",
       "      <td>0</td>\n",
       "      <td>1</td>\n",
       "      <td>...</td>\n",
       "      <td>4.0</td>\n",
       "      <td>4.0</td>\n",
       "      <td>1</td>\n",
       "      <td>4</td>\n",
       "      <td>4</td>\n",
       "      <td>6</td>\n",
       "      <td>1</td>\n",
       "      <td>0</td>\n",
       "      <td>0</td>\n",
       "      <td>0</td>\n",
       "    </tr>\n",
       "    <tr>\n",
       "      <th>19</th>\n",
       "      <td>1109073081A_1129461</td>\n",
       "      <td>0</td>\n",
       "      <td>0</td>\n",
       "      <td>0</td>\n",
       "      <td>0</td>\n",
       "      <td>0</td>\n",
       "      <td>0</td>\n",
       "      <td>0</td>\n",
       "      <td>0</td>\n",
       "      <td>1</td>\n",
       "      <td>...</td>\n",
       "      <td>4.0</td>\n",
       "      <td>4.0</td>\n",
       "      <td>1</td>\n",
       "      <td>3</td>\n",
       "      <td>4</td>\n",
       "      <td>5</td>\n",
       "      <td>1</td>\n",
       "      <td>0</td>\n",
       "      <td>0</td>\n",
       "      <td>0</td>\n",
       "    </tr>\n",
       "  </tbody>\n",
       "</table>\n",
       "<p>5 rows × 43 columns</p>\n",
       "</div>"
      ],
      "text/plain": [
       "                     ID  여행일수  제주  경남  경북  전남  전북  충남  충북  강원  ...  재방문 의도  \\\n",
       "1   11090711981_1129310     1   0   0   0   0   0   0   0   1  ...     4.0   \n",
       "4   11080630451_1223531     2   0   0   0   1   0   0   0   1  ...     4.0   \n",
       "16  1109073081A_1129374     0   0   0   0   0   0   0   0   1  ...     4.0   \n",
       "18  1109073081A_1129439     0   0   0   0   0   0   0   0   1  ...     4.0   \n",
       "19  1109073081A_1129461     0   0   0   0   0   0   0   0   1  ...     4.0   \n",
       "\n",
       "    타인 추천 의도  성별  연령  가구원수  가구 월소득  봄  여름  가을  겨울  \n",
       "1        4.0   0   6     4       6  1   0   0   0  \n",
       "4        3.0   1   4     3       6  0   1   0   0  \n",
       "16       4.0   0   5     3       6  1   0   0   0  \n",
       "18       4.0   1   4     4       6  1   0   0   0  \n",
       "19       4.0   1   3     4       5  1   0   0   0  \n",
       "\n",
       "[5 rows x 43 columns]"
      ]
     },
     "execution_count": 9,
     "metadata": {},
     "output_type": "execute_result"
    }
   ],
   "source": [
    "GANGWON.head()"
   ]
  },
  {
   "cell_type": "code",
   "execution_count": 10,
   "metadata": {},
   "outputs": [
    {
     "name": "stdout",
     "output_type": "stream",
     "text": [
      "제주 0.8129330610504752\n",
      "전남 0.9238790583900678\n",
      "전북 0.7968231154197206\n",
      "충남 0.5156265864831158\n",
      "충북 0.6692714580621192\n",
      "경기 0.7615685121076912\n",
      "울산 0.8129330610504752\n",
      "광주 0.8129330610504752\n",
      "인천 0.7085206260581232\n",
      "부산 0.5950650407551412\n",
      "캠핑비 0.5769809215299293\n",
      "등산비 0.6993347152107865\n",
      "낚시비 0.7135081036198961\n",
      "성별 0.5750594621945813\n"
     ]
    },
    {
     "name": "stderr",
     "output_type": "stream",
     "text": [
      "c:\\Users\\ros43\\anaconda3\\lib\\site-packages\\scipy\\stats\\_stats_py.py:110: RuntimeWarning: The input array could not be properly checked for nan values. nan values will be ignored.\n",
      "  warnings.warn(\"The input array could not be properly \"\n",
      "c:\\Users\\ros43\\anaconda3\\lib\\site-packages\\scipy\\stats\\_stats_py.py:4878: ConstantInputWarning: An input array is constant; the correlation coefficient is not defined.\n",
      "  warnings.warn(stats.ConstantInputWarning(warn_msg))\n"
     ]
    }
   ],
   "source": [
    "cols=GANGWON.columns.tolist()\n",
    "#correlation, pvalue) 순서\n",
    "for v in cols:\n",
    "  if stats.spearmanr(GANGWON[v],gangwon)[1]>=0.5:\n",
    "    print(v, stats.spearmanr(GANGWON[v],gangwon)[1])"
   ]
  },
  {
   "cell_type": "code",
   "execution_count": 45,
   "metadata": {},
   "outputs": [
    {
     "data": {
      "text/plain": [
       "(1000.0, 250000.0)"
      ]
     },
     "execution_count": 45,
     "metadata": {},
     "output_type": "execute_result"
    },
    {
     "data": {
      "image/png": "[encoded data removed]",
      "text/plain": [
       "<Figure size 640x480 with 1 Axes>"
      ]
     },
     "metadata": {},
     "output_type": "display_data"
    }
   ],
   "source": [
    "\n",
    "plt.scatter(GANGWON['식사비'],GANGWON['등산비'])\n",
    "plt.xlim([1,800000])\n",
    "plt.ylim([1000,250000])"
   ]
  },
  {
   "cell_type": "code",
   "execution_count": 47,
   "metadata": {},
   "outputs": [
    {
     "data": {
      "text/plain": [
       "(1000.0, 300000.0)"
      ]
     },
     "execution_count": 47,
     "metadata": {},
     "output_type": "execute_result"
    },
    {
     "data": {
      "image/png": "[encoded data removed]",
      "text/plain": [
       "<Figure size 640x480 with 1 Axes>"
      ]
     },
     "metadata": {},
     "output_type": "display_data"
    }
   ],
   "source": [
    "plt.scatter(GANGWON['식사비'],GANGWON['캠핑비'])\n",
    "plt.xlim([1,300000])\n",
    "plt.ylim([1000,300000])"
   ]
  },
  {
   "cell_type": "code",
   "execution_count": 52,
   "metadata": {},
   "outputs": [
    {
     "data": {
      "text/plain": [
       "(1000.0, 400000.0)"
      ]
     },
     "execution_count": 52,
     "metadata": {},
     "output_type": "execute_result"
    },
    {
     "data": {
      "image/png": "[encoded data removed]",
      "text/plain": [
       "<Figure size 640x480 with 1 Axes>"
      ]
     },
     "metadata": {},
     "output_type": "display_data"
    }
   ],
   "source": [
    "plt.scatter(GANGWON['식사비'],GANGWON['낚시비'])\n",
    "plt.xlim([1,400000])\n",
    "plt.ylim([1000,400000])"
   ]
  }
 ],
 "metadata": {
  "kernelspec": {
   "display_name": "Python 3",
   "language": "python",
   "name": "python3"
  },
  "language_info": {
   "codemirror_mode": {
    "name": "ipython",
    "version": 3
   },
   "file_extension": ".py",
   "mimetype": "text/x-python",
   "name": "python",
   "nbconvert_exporter": "python",
   "pygments_lexer": "ipython3",
   "version": "3.9.13"
  },
  "orig_nbformat": 4,
  "vscode": {
   "interpreter": {
    "hash": "3f9ad1f9c5f218c881d109993c6f90dd36ecc755c925af81aa21617f22163d0b"
   }
  }
 },
 "nbformat": 4,
 "nbformat_minor": 2
}
